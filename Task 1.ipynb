{
 "cells": [
  {
   "cell_type": "markdown",
   "metadata": {},
   "source": [
    "#THE SPARKS FOUNDATION"
    "\n"
    "(GRIPJAN21)"
    "\n"
    "Author : VEMU LAKSHMI ANANYA",
    "\n",
    "DATASCIENCE AND BUSINESS ANALYTICS\n",
    "\n",
    "TASK 1: Predict the percentage of an student based on the number of study hours using linear regression#"
   ]
  },
  {
   "cell_type": "code",
   "execution_count": 6,
   "metadata": {},
   "outputs": [],
   "source": [
    "# IMPORTING REQUIRED LIBRARIES FOR THE DATASET\n",
    "import pandas as pd\n",
    "import numpy as np\n",
    "import matplotlib.pyplot as plt\n",
    "%matplotlib inline\n",
    "import seaborn as sns\n",
    "sns.set(style='white',color_codes=True)\n",
    "sns.set(font_scale=1.5)"
   ]
  },
  {
   "cell_type": "code",
   "execution_count": 5,
   "metadata": {},
   "outputs": [
    {
     "data": {
      "text/html": [
       "<div>\n",
       "<style scoped>\n",
       "    .dataframe tbody tr th:only-of-type {\n",
       "        vertical-align: middle;\n",
       "    }\n",
       "\n",
       "    .dataframe tbody tr th {\n",
       "        vertical-align: top;\n",
       "    }\n",
       "\n",
       "    .dataframe thead th {\n",
       "        text-align: right;\n",
       "    }\n",
       "</style>\n",
       "<table border=\"1\" class=\"dataframe\">\n",
       "  <thead>\n",
       "    <tr style=\"text-align: right;\">\n",
       "      <th></th>\n",
       "      <th>Hours</th>\n",
       "      <th>Scores</th>\n",
       "    </tr>\n",
       "  </thead>\n",
       "  <tbody>\n",
       "    <tr>\n",
       "      <th>0</th>\n",
       "      <td>2.5</td>\n",
       "      <td>21</td>\n",
       "    </tr>\n",
       "    <tr>\n",
       "      <th>1</th>\n",
       "      <td>5.1</td>\n",
       "      <td>47</td>\n",
       "    </tr>\n",
       "    <tr>\n",
       "      <th>2</th>\n",
       "      <td>3.2</td>\n",
       "      <td>27</td>\n",
       "    </tr>\n",
       "    <tr>\n",
       "      <th>3</th>\n",
       "      <td>8.5</td>\n",
       "      <td>75</td>\n",
       "    </tr>\n",
       "    <tr>\n",
       "      <th>4</th>\n",
       "      <td>3.5</td>\n",
       "      <td>30</td>\n",
       "    </tr>\n",
       "    <tr>\n",
       "      <th>5</th>\n",
       "      <td>1.5</td>\n",
       "      <td>20</td>\n",
       "    </tr>\n",
       "    <tr>\n",
       "      <th>6</th>\n",
       "      <td>9.2</td>\n",
       "      <td>88</td>\n",
       "    </tr>\n",
       "    <tr>\n",
       "      <th>7</th>\n",
       "      <td>5.5</td>\n",
       "      <td>60</td>\n",
       "    </tr>\n",
       "    <tr>\n",
       "      <th>8</th>\n",
       "      <td>8.3</td>\n",
       "      <td>81</td>\n",
       "    </tr>\n",
       "    <tr>\n",
       "      <th>9</th>\n",
       "      <td>2.7</td>\n",
       "      <td>25</td>\n",
       "    </tr>\n",
       "    <tr>\n",
       "      <th>10</th>\n",
       "      <td>7.7</td>\n",
       "      <td>85</td>\n",
       "    </tr>\n",
       "    <tr>\n",
       "      <th>11</th>\n",
       "      <td>5.9</td>\n",
       "      <td>62</td>\n",
       "    </tr>\n",
       "    <tr>\n",
       "      <th>12</th>\n",
       "      <td>4.5</td>\n",
       "      <td>41</td>\n",
       "    </tr>\n",
       "    <tr>\n",
       "      <th>13</th>\n",
       "      <td>3.3</td>\n",
       "      <td>42</td>\n",
       "    </tr>\n",
       "    <tr>\n",
       "      <th>14</th>\n",
       "      <td>1.1</td>\n",
       "      <td>17</td>\n",
       "    </tr>\n",
       "    <tr>\n",
       "      <th>15</th>\n",
       "      <td>8.9</td>\n",
       "      <td>95</td>\n",
       "    </tr>\n",
       "    <tr>\n",
       "      <th>16</th>\n",
       "      <td>2.5</td>\n",
       "      <td>30</td>\n",
       "    </tr>\n",
       "    <tr>\n",
       "      <th>17</th>\n",
       "      <td>1.9</td>\n",
       "      <td>24</td>\n",
       "    </tr>\n",
       "    <tr>\n",
       "      <th>18</th>\n",
       "      <td>6.1</td>\n",
       "      <td>67</td>\n",
       "    </tr>\n",
       "    <tr>\n",
       "      <th>19</th>\n",
       "      <td>7.4</td>\n",
       "      <td>69</td>\n",
       "    </tr>\n",
       "    <tr>\n",
       "      <th>20</th>\n",
       "      <td>2.7</td>\n",
       "      <td>30</td>\n",
       "    </tr>\n",
       "    <tr>\n",
       "      <th>21</th>\n",
       "      <td>4.8</td>\n",
       "      <td>54</td>\n",
       "    </tr>\n",
       "    <tr>\n",
       "      <th>22</th>\n",
       "      <td>3.8</td>\n",
       "      <td>35</td>\n",
       "    </tr>\n",
       "    <tr>\n",
       "      <th>23</th>\n",
       "      <td>6.9</td>\n",
       "      <td>76</td>\n",
       "    </tr>\n",
       "    <tr>\n",
       "      <th>24</th>\n",
       "      <td>7.8</td>\n",
       "      <td>86</td>\n",
       "    </tr>\n",
       "  </tbody>\n",
       "</table>\n",
       "</div>"
      ],
      "text/plain": [
       "    Hours  Scores\n",
       "0     2.5      21\n",
       "1     5.1      47\n",
       "2     3.2      27\n",
       "3     8.5      75\n",
       "4     3.5      30\n",
       "5     1.5      20\n",
       "6     9.2      88\n",
       "7     5.5      60\n",
       "8     8.3      81\n",
       "9     2.7      25\n",
       "10    7.7      85\n",
       "11    5.9      62\n",
       "12    4.5      41\n",
       "13    3.3      42\n",
       "14    1.1      17\n",
       "15    8.9      95\n",
       "16    2.5      30\n",
       "17    1.9      24\n",
       "18    6.1      67\n",
       "19    7.4      69\n",
       "20    2.7      30\n",
       "21    4.8      54\n",
       "22    3.8      35\n",
       "23    6.9      76\n",
       "24    7.8      86"
      ]
     },
     "execution_count": 5,
     "metadata": {},
     "output_type": "execute_result"
    }
   ],
   "source": [
    "#IMPORTING DATA\n",
    "df=pd.read_csv('data.csv')\n",
    "df"
   ]
  },
  {
   "cell_type": "code",
   "execution_count": 7,
   "metadata": {},
   "outputs": [
    {
     "data": {
      "text/html": [
       "<div>\n",
       "<style scoped>\n",
       "    .dataframe tbody tr th:only-of-type {\n",
       "        vertical-align: middle;\n",
       "    }\n",
       "\n",
       "    .dataframe tbody tr th {\n",
       "        vertical-align: top;\n",
       "    }\n",
       "\n",
       "    .dataframe thead th {\n",
       "        text-align: right;\n",
       "    }\n",
       "</style>\n",
       "<table border=\"1\" class=\"dataframe\">\n",
       "  <thead>\n",
       "    <tr style=\"text-align: right;\">\n",
       "      <th></th>\n",
       "      <th>Hours</th>\n",
       "      <th>Scores</th>\n",
       "    </tr>\n",
       "  </thead>\n",
       "  <tbody>\n",
       "    <tr>\n",
       "      <th>0</th>\n",
       "      <td>2.5</td>\n",
       "      <td>21</td>\n",
       "    </tr>\n",
       "    <tr>\n",
       "      <th>1</th>\n",
       "      <td>5.1</td>\n",
       "      <td>47</td>\n",
       "    </tr>\n",
       "    <tr>\n",
       "      <th>2</th>\n",
       "      <td>3.2</td>\n",
       "      <td>27</td>\n",
       "    </tr>\n",
       "    <tr>\n",
       "      <th>3</th>\n",
       "      <td>8.5</td>\n",
       "      <td>75</td>\n",
       "    </tr>\n",
       "    <tr>\n",
       "      <th>4</th>\n",
       "      <td>3.5</td>\n",
       "      <td>30</td>\n",
       "    </tr>\n",
       "  </tbody>\n",
       "</table>\n",
       "</div>"
      ],
      "text/plain": [
       "   Hours  Scores\n",
       "0    2.5      21\n",
       "1    5.1      47\n",
       "2    3.2      27\n",
       "3    8.5      75\n",
       "4    3.5      30"
      ]
     },
     "execution_count": 7,
     "metadata": {},
     "output_type": "execute_result"
    }
   ],
   "source": [
    "#EXPLORATORY DATA ANALYSIS\n",
    "df.head()"
   ]
  },
  {
   "cell_type": "code",
   "execution_count": 8,
   "metadata": {},
   "outputs": [
    {
     "data": {
      "text/plain": [
       "(25, 2)"
      ]
     },
     "execution_count": 8,
     "metadata": {},
     "output_type": "execute_result"
    }
   ],
   "source": [
    "df.shape"
   ]
  },
  {
   "cell_type": "code",
   "execution_count": 9,
   "metadata": {},
   "outputs": [
    {
     "data": {
      "text/plain": [
       "Index(['Hours', 'Scores'], dtype='object')"
      ]
     },
     "execution_count": 9,
     "metadata": {},
     "output_type": "execute_result"
    }
   ],
   "source": [
    "df.columns"
   ]
  },
  {
   "cell_type": "code",
   "execution_count": 10,
   "metadata": {},
   "outputs": [
    {
     "data": {
      "text/plain": [
       "Hours     float64\n",
       "Scores      int64\n",
       "dtype: object"
      ]
     },
     "execution_count": 10,
     "metadata": {},
     "output_type": "execute_result"
    }
   ],
   "source": [
    "df.dtypes"
   ]
  },
  {
   "cell_type": "code",
   "execution_count": 11,
   "metadata": {},
   "outputs": [
    {
     "name": "stdout",
     "output_type": "stream",
     "text": [
      "<class 'pandas.core.frame.DataFrame'>\n",
      "RangeIndex: 25 entries, 0 to 24\n",
      "Data columns (total 2 columns):\n",
      " #   Column  Non-Null Count  Dtype  \n",
      "---  ------  --------------  -----  \n",
      " 0   Hours   25 non-null     float64\n",
      " 1   Scores  25 non-null     int64  \n",
      "dtypes: float64(1), int64(1)\n",
      "memory usage: 528.0 bytes\n"
     ]
    }
   ],
   "source": [
    "df.info()"
   ]
  },
  {
   "cell_type": "code",
   "execution_count": 12,
   "metadata": {},
   "outputs": [
    {
     "data": {
      "text/html": [
       "<div>\n",
       "<style scoped>\n",
       "    .dataframe tbody tr th:only-of-type {\n",
       "        vertical-align: middle;\n",
       "    }\n",
       "\n",
       "    .dataframe tbody tr th {\n",
       "        vertical-align: top;\n",
       "    }\n",
       "\n",
       "    .dataframe thead th {\n",
       "        text-align: right;\n",
       "    }\n",
       "</style>\n",
       "<table border=\"1\" class=\"dataframe\">\n",
       "  <thead>\n",
       "    <tr style=\"text-align: right;\">\n",
       "      <th></th>\n",
       "      <th>Hours</th>\n",
       "      <th>Scores</th>\n",
       "    </tr>\n",
       "  </thead>\n",
       "  <tbody>\n",
       "    <tr>\n",
       "      <th>count</th>\n",
       "      <td>25.000000</td>\n",
       "      <td>25.000000</td>\n",
       "    </tr>\n",
       "    <tr>\n",
       "      <th>mean</th>\n",
       "      <td>5.012000</td>\n",
       "      <td>51.480000</td>\n",
       "    </tr>\n",
       "    <tr>\n",
       "      <th>std</th>\n",
       "      <td>2.525094</td>\n",
       "      <td>25.286887</td>\n",
       "    </tr>\n",
       "    <tr>\n",
       "      <th>min</th>\n",
       "      <td>1.100000</td>\n",
       "      <td>17.000000</td>\n",
       "    </tr>\n",
       "    <tr>\n",
       "      <th>25%</th>\n",
       "      <td>2.700000</td>\n",
       "      <td>30.000000</td>\n",
       "    </tr>\n",
       "    <tr>\n",
       "      <th>50%</th>\n",
       "      <td>4.800000</td>\n",
       "      <td>47.000000</td>\n",
       "    </tr>\n",
       "    <tr>\n",
       "      <th>75%</th>\n",
       "      <td>7.400000</td>\n",
       "      <td>75.000000</td>\n",
       "    </tr>\n",
       "    <tr>\n",
       "      <th>max</th>\n",
       "      <td>9.200000</td>\n",
       "      <td>95.000000</td>\n",
       "    </tr>\n",
       "  </tbody>\n",
       "</table>\n",
       "</div>"
      ],
      "text/plain": [
       "           Hours     Scores\n",
       "count  25.000000  25.000000\n",
       "mean    5.012000  51.480000\n",
       "std     2.525094  25.286887\n",
       "min     1.100000  17.000000\n",
       "25%     2.700000  30.000000\n",
       "50%     4.800000  47.000000\n",
       "75%     7.400000  75.000000\n",
       "max     9.200000  95.000000"
      ]
     },
     "execution_count": 12,
     "metadata": {},
     "output_type": "execute_result"
    }
   ],
   "source": [
    "df.describe()"
   ]
  },
  {
   "cell_type": "code",
   "execution_count": 13,
   "metadata": {},
   "outputs": [
    {
     "data": {
      "text/plain": [
       "Hours     0\n",
       "Scores    0\n",
       "dtype: int64"
      ]
     },
     "execution_count": 13,
     "metadata": {},
     "output_type": "execute_result"
    }
   ],
   "source": [
    "df.isnull().sum() #for null values"
   ]
  },
  {
   "cell_type": "code",
   "execution_count": 14,
   "metadata": {},
   "outputs": [
    {
     "data": {
      "text/plain": [
       "<bound method DataFrame.any of     Hours  Scores\n",
       "0   False   False\n",
       "1   False   False\n",
       "2   False   False\n",
       "3   False   False\n",
       "4   False   False\n",
       "5   False   False\n",
       "6   False   False\n",
       "7   False   False\n",
       "8   False   False\n",
       "9   False   False\n",
       "10  False   False\n",
       "11  False   False\n",
       "12  False   False\n",
       "13  False   False\n",
       "14  False   False\n",
       "15  False   False\n",
       "16  False   False\n",
       "17  False   False\n",
       "18  False   False\n",
       "19  False   False\n",
       "20  False   False\n",
       "21  False   False\n",
       "22  False   False\n",
       "23  False   False\n",
       "24  False   False>"
      ]
     },
     "execution_count": 14,
     "metadata": {},
     "output_type": "execute_result"
    }
   ],
   "source": [
    "df.isna().any  #for missing values"
   ]
  },
  {
   "cell_type": "code",
   "execution_count": 16,
   "metadata": {},
   "outputs": [
    {
     "data": {
      "image/png": "iVBORw0KGgoAAAANSUhEUgAAAY4AAAEqCAYAAAACibeEAAAABHNCSVQICAgIfAhkiAAAAAlwSFlzAAALEgAACxIB0t1+/AAAADh0RVh0U29mdHdhcmUAbWF0cGxvdGxpYiB2ZXJzaW9uMy4yLjIsIGh0dHA6Ly9tYXRwbG90bGliLm9yZy+WH4yJAAAgAElEQVR4nO3dfVzNd/8H8NcpnXRVRLW7RMUKRSXsF5a06BfFpRgtmdxbHhcxxh5t+GGMuZiEmYTK/VyrUYuGDbt2o9ysrmbmLprLVrRuHJ1uvr8/ujqXo+R8dfM9N6/n4+Hx0Of7Pd/zPh/p3edeJgiCACIiIg0ZSR0AERHpFiYOIiIShYmDiIhEYeIgIiJRmDiIiEgUJg4iIhKFiYMkExsbCxcXF3z//fcNXr99+zZcXFywaNGiVo5Mu509exbTpk3DK6+8Ajc3NwwZMgSLFy/GjRs3pA6NDAQTB5EOOXjwICZPnozy8nJMmzYN77//PoYPH44TJ05g1KhRuHjxotQhkgFoI3UARKQZhUKBNWvWYMiQIdi6davatfHjx2PUqFFYsWIFDh48KFGEZCjY4iDSEb/++itKSkowaNCgetfs7e0xZMgQ5OXloaKiQoLoyJAwcZDOuXz5Mt566y307dsXvXv3xuuvv47MzEy1eyIiIuDn51fvtY+XR0REYMqUKVi/fj08PT3h7e2Ny5cvQ6lUYuXKlXjttdfg5uaGwYMHY9myZfjzzz+fGFdaWhpcXFxw7NixBt/X398fACAIAjZt2oSAgAD06tULAwYMwIIFC3Dnzp1GP7e5uTkA4MiRIygrK6t3ffXq1cjJyYGpqamqTKlUIjY2FsOGDUPv3r0REBCAbdu2obq6WnWPQqHAunXr4OfnBzc3N/j5+eGjjz6CQqFQ3XP48GG4uLggIyMDfn5+cHd3R2xsLACgoqIC69evV73+tddew8cffwylUqkWX0ZGBkJDQ+Hp6QkvLy9ERkYiKyur0c9M2oldVSS50tJS3Lt3r155SUlJvbJLly5h4sSJsLCwQGRkJMzNzZGSkoKoqCi8//77CA8PF/3+2dnZuHnzJhYsWIDbt2+jW7duWLJkCY4cOYKJEyfC3t4eV65cQXJyMm7evIkdO3Y0+Bw/Pz+Ym5sjPT0dw4YNU5X//vvvOHfuHGbMmAEA2Lp1K+Li4hAeHg4XFxfcvn0bu3fvRk5ODo4cOQJjY+MGn+/k5IQ+ffogOzsbQ4YMgb+/PwYNGoRXXnkFNjY2MDExqfeaqKgofPPNNwgODkZkZCQuXbqEdevWoaioCIsXL4ZSqURkZCQuXLiAkJAQuLm54dKlS/j000+RlZWF3bt3qz138eLFiIiIgKWlJTw8PFBdXY0ZM2YgOzsbr7/+Orp27YqcnBxs3boVeXl52LJlC2QyGX744QdER0fDx8cHY8eOhUKhQFJSEiIjI3H06FHY29uL/ncjCQlEEtm4caPg7Oz81D/vvPOO6jVjx44VPDw8hDt37qjKHj58KIwePVro3bu3UFRUJAiCIEyYMEEYMmRIvfd8vHzChAmCs7Oz8N1336nd17t3b2HZsmVqZevXrxdCQkKEsrKyJ36mhQsXCh4eHoJCoVCV7dq1S3B2dhZ+/fVXQRAEITAwUJg+fbra6/bu3SuMHDlSuHnz5hOfLQiC8PvvvwtvvvmmWv24uLgIY8aMEY4cOaJ276lTpwRnZ2dhy5YtauXz588XXF1dheLiYmHPnj2Cs7OzkJCQoHbPp59+Kjg7OwvJycmCIAjCZ599Vu/f4tHyb775Rq183759grOzs3D8+HFBEARhyZIlgqenp1BTU6O65+effxaGDRsmpKenN/qZSfuwq4ok98477yAhIaHen7Vr16rdV1hYiIsXL2LUqFF44YUXVOWmpqaYMmUKHj58iG+//Vb0+7dt2xb9+vVTK3vhhReQlpaGw4cPq1o+c+fOxWeffabqMmpIcHAwHjx4gK+//lpVlpaWBldXV3Tt2lX17O+//x67du1CYWEhgNrB7ZSUFHTu3LnRWG1tbbFz504cOnQI06dPh6urK4Dalti8efOwZMkS1b2nTp2CkZERJkyYoPaMd955BykpKbCwsMCJEydgYWFRr6VW16r76quv1MofH185duwYOnbsCFdXV9y7d0/1Z/DgwTA2NsapU6dUn7m8vBwrVqzA1atXAUDV9fW///u/jX5m0j5MHCQ5V1dXDBgwoN6fPn36qN1XUFAAAHB0dKz3jLofyr/99pvo97eysoKRkfp/haVLl0IQBCxevBje3t4IDw/Hzp07UVpa2uizvL29YWNjgy+//FIVz4ULFxAcHKy6Z+HChejQoQM++OADDBo0CKGhoYiLi8Mff/yhccy9evXC/PnzcfjwYZw9exaLFy+GhYUF9u3bp5qSW1BQAGtra1hYWKi91tbWFl27doWxsTFu374Ne3v7et1ccrkc9vb2qjqvY21trfZ1fn4+7t27B29vb7U/gwcPRnV1tWrcZsKECejXrx+SkpIwfPhwvPbaa1ixYgV+/vlnjT8zaQ+OcZDOEBo5OqampgYAGuznf9Sjg8J1GhpT8Pb2xsmTJ1V/zp49i1WrVmHnzp04fPgwOnbs2ODzjY2NERgYiM8++wwPHz5Eeno6ZDIZhg8frrqne/fuyMjIwOnTp3Hy5EmcPn0aGzduxM6dO7Fv3z5VEnxcSkoKrl69innz5qmVW1tbY9KkSXjuuecQHR2NrKwsuLu7o7q6GjKZrNH6eFqdPl6fjyfY6upqODg4qLV0HtWuXTsAgIWFBZKSknDhwgVkZmbim2++QWJiIpKTk7FmzRq1xErajy0O0hl2dnYAgGvXrtW7dv36dQBQdWEZGRnVm9UDQNU11BilUomLFy+itLQUI0aMwEcffYSzZ89i4cKFuHPnDo4ePdro60eOHIkHDx7g7NmzSE9PR//+/fH8888DqP1Bm5ubizt37qh+6/7666+xfv16lJSUNLoG4/vvv8cnn3yC27dvN3j95ZdfBlDb9QYAL730EgoLC1FeXq52X25uLubPn49ff/0VdnZ2uHXrFiorK+vVwe3bt/Hiiy82+lk7deqE4uJi/M///I9aa7Ffv34oLi7GX/7yFwC1/z6XLl2Ch4cH3n77baSmpuLo0aNo164dEhISGn0P0j5MHKQzbG1t4ebmhtTUVPz73/9WlSuVSiQkJEAul2PgwIEAABsbGxQVFeHu3buq+3JycnDz5s2nvk9xcTHGjRuHTz75RFVmZGSEXr16qf7emN69e8PBwQEHDhzATz/9pPbbdHV1NSZOnIgPPvhA7TXu7u5PfXbdc1asWNHgWo39+/fD2NgYvr6+AIDBgwejpqamXjLau3cv0tPTYWNjAz8/P5SVlSE5OVntnj179qC8vFz1rCfx8/NDcXEx9u7dq1a+b98+REdH45///Kcq5rfeekstiTk5OaFdu3ZPrU/SPuyqIp0SExODN998E2PGjEFYWBjMzc2RmpqK3NxcxMTEqLpGgoKCcOTIEUybNg1hYWEoKipCYmIiHBwc6v12/bjnnnsOwcHB2LNnDxQKBTw9PVFcXIykpCTY2NggMDDwqXEGBQVh06ZNkMvlCAgIUJXL5XJERERgy5YtiIqKwquvvoqHDx9i//79MDMzQ2ho6BOf6e3tjcjISCQkJGD48OEICgqCvb09SktLceLECfzwww9YtGgRXnrpJQC1P9QHDhyI1atX48qVK+jVqxfOnz+Pzz//HFFRUbCyssLYsWPxj3/8A6tXr8Yvv/wCNzc35OTk4PDhw3B3d8fYsWMb/Zx1r1++fDlyc3PRu3dv/PLLL9i/fz9cXV0REhICAIiMjMS0adMQHh6Ov/71rzA1NUVmZiby8/Px4YcfPrU+SctIPKuLDFjddNzHp8LWuXXrVoNTQHNycoTp06cLffr0ETw8PITx48erpn0+KikpSRg2bJjg6uoqBAUFCWlpacKyZcvqTcdtaNquQqEQPv74Y2HYsGFCr169hP79+wtz5swRbty4odFnu379uuDs7CzMnj273rXq6mohISFBCAoKEjw8PAQvLy9h2rRpwk8//aTRs7/66ithxowZwsCBAwVXV1ehf//+wtSpU4XTp083+DnWrVsn+Pr6Cm5ubsLw4cOFpKQkobq6WnVPaWmpsHr1amHw4MGCq6ur8Nprrwl///vf1aYU1027bejfqu71Q4YMEVxdXYUhQ4YIy5cvF+7du6d238mTJ4Xx48cL/fr1E3r37i2EhobWm0JMukEmCI2MjhERET2GnYtERCQKEwcREYnCxEFERKIwcRARkShMHEREJAoTBxERiWIwCwDv3y9HTY3uzjy2trZAUVH9w3uoPtaV5lhXmjO0ujIykqFDh4Z3gjaYxFFTI+h04gCg8/G3JtaV5lhXmmNd1WJXFRERicLEQUREojBxEBGRKEwcREQkChMHEZGOkBUWos35LMg0OJCsJTFxEBHpANPDB2Ht5Yr2Y0bB2ssVpocPSRYLEwcRkZaTFRbCMno2ZAoFjEpLIFMoYBkdJVnLg4mDiEjLGd+6CaGNiVqZ0MYExreefhRyS2DiICLSctX2XSCrUj/yWFZViWr7LpLEw8RBRKTlBBsblK6Pg2BmhhrLdhDMzGq/trGRJB6D2XKEiEiXVYSMgdLHF8a3bqLavotkSQNg4iAi0hmCjQ2qJEwYddhVRUREojBxEBGRKEwcREQkChMHERGJwsRBRESiMHEQEZEoTBxERCQKEwcREYnCxEFERKIwcRAR6amWOviJiYOISA+15MFPTBxERHqmpQ9+YuIgItIzLX3wExMHEZGeaemDn5g4iIj0TEsf/MTzOIiIUDsuoA2HJDWXljz4iYmDiAye6eGDsIyeDaGNCWRVlShdH4eKkDFSh9VkLXXwExMHERmkuhZGjbmFagaSDAoAgGV0FJQ+vnrR8mgJTBxEZHDUWhjKCkCmPtxbNwNJG45p1UZMHERkUB5d41DXwhAev6cZZyDpIyYOIjIodWsc6pIGAAimbQEIEOSmqjEOdlM9GRMHERmUBtc4GMlw7/hpGJWX6c2sqpbEdRxEZFCetMahxtkFVZ5eTBoaYIuDiAxOS65xMARMHERkkFpqjYMhYFcVERGJwsRBRESiSJ449u7di8DAQHh4eCA4OBipqalq18+cOYPQ0FC4u7vDz88PO3bskChSIiLNtNTJe9pC0sSxf/9+LF26FL6+vti8eTMGDBiABQsWID09HQCQnZ2NmTNnwsnJCbGxsQgODsaaNWsQHx8vZdhERE/UkifvaQuZIAiPL5psNePHj4dcLsfu3btVZeHh4TAyMkJiYiImTZqEBw8e4MCBA6rra9euxYEDB3D27FnI5XKN36uoqAw1NZJ91CaztbXEH3+USh2GTmBdaY51pTlN6kpWWAhrL1fIFI8sLjQzQ1FWrs7N3DIyksHa2qLha60ci5qKigqYm5urlVlZWaG4uBgVFRU4d+4chg0bpnY9ICAAJSUlyM7Obs1QiYieqqVP3tMWkiaOiRMn4vTp00hPT0dZWRm+/PJLnDp1CqNGjcKtW7dQWVkJR0dHtdd06VK7f8z169elCJmI6Ila+uQ9bSHpOo4RI0bgu+++w9y5c1Vlo0ePxtSpU3H+/HkAgIWFelOproVSVlbWeoESEWmgblW6ZXSU2tkeutZN9TSSJo5Zs2bh/PnzWLx4MXr27ImLFy9i8+bNsLCwwPDhwwEAMpmswdcaGYlrLD2pr06X2NpaSh2CzmBdaY51pTmN6mpGJBASBNmNG4CDA9rZ2rZ4XK1NssSRnZ2NM2fOYNWqVQgJCQEA9O/fH+3atcP777+PMWNqT996vGVR97Wlpbhvdg6OGw7WleZYV5oTV1dtAYfutX/V0frVysHx3377DQDQp08ftfK+ffsCAPLy8mBsbIz8/Hy163VfPz72QURErUOyxFH3g//HH39UK79w4QIAwMnJCX379sWxY8fw6IzhjIwMWFpaws3NrfWCJSIiFcm6qlxdXeHv748PPvgA5eXl6NGjB3JychAXFwcfHx+4u7tj1qxZiIyMRHR0NEaPHo3z588jPj4e8+fPh5mZmVShExEZNEkXACqVSmzatAmpqakoKiqCnZ0dgoKCMH36dNXivuPHj2Pjxo24fv06nn/+eYSHh2Py5Mmi34tjHIaDdaU51pXmDK2uGhvjkDRxtCYmDsPButIc60pzhlZXWjk4TkQE6P+GgPqIiYOIJGMIGwLqIyYOIpKErLAQltGzIVMoYFRaAplCAcvoKL1veehDC4uJg4gkYSgbAj5KX1pYTBxEJAlD2RCwjj61sJg4iEgSdRsCCmZmqLFsB8HMTC83BKyjTy0sSTc5JCLDVhEyBkofXxjfuolq+y56mzQA/WphscVBRJISbGxQ5eml10kD0K8WFlscREStRF9aWEwcREStSLCxQZWOJow67KoiIiJRmDiIiEgUJg4iIhKFiYOIiERh4iAiIlGYOIiISBQmDiIiEoWJg4iIRGHiICK9oQ9nXegCJg4i0gv6ctaFLmDiICKdp09nXegCJg4i0nn6dNaFLmDiICKdp09nXegCJg4iAqDbA8v6dNaFLuC26kQE08MHYRk9G0IbE8iqKlG6Pg4VIWOkDksUfTnrQhcwcRAZuEcHlmVQAAAso6Og9PHVuR+++nDWhS5gVxWRgePAMonFxEFk4DiwTGI9U+JQKBSqv9+/fx/JycnYu3cviouLmy0wImodHFgmsUSNcZSUlCA6OholJSU4ePAgysrKEBoaijt37kAQBGzevBl79uyBvb19S8VLRC2AA8skhqgWx4YNG/D999/j1VdfBQAcOnQIv/32GxYsWIDdu3fDyMgIGzZsaJFAiahlCTY2qPL0YtKgpxLV4jhx4gQmTJiAv/3tbwCAzMxMWFtbY/LkyQCA8PBwJCQkNH+URESkNUS1OIqKivDyyy8DAEpLS3HhwgUMHDhQdb1Dhw5q4x9ERKR/RCWO559/Hrdu3QJQ29qorq6Gr6+v6np2djZefPHFZg2QiIi0i6iuqiFDhmDXrl0oKyvD0aNH0b59e/j5+eHu3bv49NNPkZKSgrfeequlYiUiIi0gKnEsWLAACoUChw4dwvPPP4+lS5eibdu2+OWXX5CcnIyRI0di+vTpLRUrETWRrLCQM6eoyWSCIAhNfYhSqcSff/4JW1vb5oipRRQVlaGmpskfVTK2tpb4449SqcPQCayrhjW0H1W7GZGsKw0Z2veVkZEM1tYWDV97lgdWVVXh/PnzSEtLQ2FhIZRKJeRyeZOCJKKW86SDjvDHH1KHRjpIdOJIT0+Hr68v3njjDcyfPx9XrlxBVlYWBg8ejO3bt4sO4Mcff0RYWBjc3d0xaNAgLF++HOXl5arrZ86cQWhoKNzd3eHn54cdO3aIfg8iQ/ek/ahw44Y0AZFOE5U4zpw5g/nz58PBwQHvvPMO6nq5OnXqBGdnZ6xbtw4pKSkaP+/ChQuIjIyEra0ttmzZgqioKKSmpiImJgZA7SytmTNnwsnJCbGxsQgODsaaNWsQHx8vJmwig/ek/ajg4CBNQKTTRI1xhIWFobq6Gvv27cOff/4Jb29vJCQkwNvbG1VVVZg4cSIePnyIw4cPa/S8CRMmAAASExMhk8kAAMnJyUhISMAXX3yBWbNm4cGDBzhw4IDqNWvXrsWBAwdw9uxZUd1jHOMwHPpeV886wG16+BAso6M4xvGM9P376nHNNsaRl5eHESNGwMio/svatGmDoKAgXL9+XaNn3bt3D+fOnUNYWJgqaQC1q88zMzNhZGSEc+fOYdiwYWqvCwgIQElJCbKzs8WETqQXTA8fhLWXK9qPGQVrL1eYHj6k8WsrQsagKCsXfx5KQVFWrs4d1ETaQ1TiMDExQVVV1ROvFxcXw8TE5InXH/XLL79AEAS0b98ec+fOhYeHB7y8vLBkyRI8fPgQt27dQmVlJRwdHdVe16VL7VbPmiYoIn3xpAFuMUe9cj8qag6i1nH0798fhw4dUnUxPer333/Hnj174OXlpdGz7t27BwBYtGgRhg4dii1btuDy5cvYsGEDKioqMG7cOACAhYV6U8nc3BwAUFZWJib0Jza5dImtraXUIegMvayrGz8DcjnwyLY+MhMT2JQVAj0cG3lh4/SyrloI66qWqMQRHR2N8ePHY+TIkfDx8YFMJsNXX32FU6dO4R//+AeUSqVqA8SnqaysHajr06cPlixZAgDw9vaGIAj48MMP8frrrwOAWjfWoxrqLmsMxzgMh77WlczCBtZKJR79HyFUVqLIwgbCM35efa2rlmBoddVsYxzdunVDcnIynnvuOSQmJkIQBCQlJWHXrl3o3Lkzdu7ciR49emj0rLqWg4+Pj1r5oEGDIAgCfvrpJwD1WxZ1X1taMvOTYeGBS6QtRLU4rly5AmdnZyQmJqK4uBj5+fmoqamBnZ2d6FXjDv+ZBqhUKtXK61oinTp1grGxMfLz89Wu1339+NgHkSHggUukDUS1OCZNmoR169YBAKysrNC7d294eHg801YjXbt2hZ2dHdLS0tTKT548iTZt2sDT0xN9+/bFsWPH8OiM4YyMDFhaWsLNzU30exLpAw5wk9REJY4HDx6gU6dOzfLGMpkMb7/9Ns6dO4e3334b3377LbZt24YtW7YgIiICHTt2xKxZs5CdnY3o6Gh8/fXX2LBhA+Lj4zFjxgyYmZk1SxxERCSO8dKlS5dqevPDhw9x4MAB9OjRAy+99FKT3/zll19G9+7dkZGRgd27d+Pq1auIjIzEnDlzIJPJYG9vDxcXF3z55ZdITk5GQUEBZs2ahalTp4p+L4VCiaZv5ygdc3NTPHigfPqNxLoSgXWlOUOrK5lMhr/8peFF1qJWjk+dOhVZWVl4+PAh2rZtCysrq3qzm2QyGTIzM5sWcQvgrCrDwbrSHOtKc4ZWV43NqhI1OF5RUcGxBSIiAycqcSQmJrZUHEREpCNEJY46xcXF+Pbbb1FQUAATExO89NJLGDBgQL1V3kREpH9EJ449e/Zg7dq1ePjwodo0WVNTUyxcuBDh4eHNGiAREWkXUYkjMzMT//d//4eePXti6tSpcHJygiAIuHbtGhISErBixQq89NJLGDJkSEvFS0REEhM1q2rcuHGorKzEvn376p2FUVlZiXHjxsHMzAzJycnNHmhTcVaV4ZCirp71jAyp8ftKc4ZWV822V9XPP/+MUaNGNXiAkomJCUaNGoW8vLxni5JIRzXljAwiXSQqccjlcige2dL5ceXl5TA2Nm5yUES6ojnOyCDSNaISR79+/ZCcnIzff/+93rW7d++KOo+DSB8Y37oJoY364WVCGxMY37opUURELU/U4PjcuXMxbtw4BAYG4q9//atqh9tr164hNTUV1dXVmDNnTkvESaSVqu27QFZVqVYmq6pEtX0XiSIianmiEoezszN27dqFFStW1BsAd3NzQ0xMjMbncRDpg7ozMiyjoyC0MYGsqpJnZJDeEzWr6lFFRUUoKCiAIAiws7ODjZb/R+GsKsPBWVWa4/eV5gytrpptVhUA5OTkIDo6GgDQu3dvuLu7Iz4+Hn/7299w9erVpkVKpKN4RgYZElGJ49y5c3jjjTdw9uxZ3L9/X1Vua2uLrKwsjBkzBj///HOzB0lERNpDVOL4+OOP4ejoiGPHjqFbt26q8smTJyMtLQ329vaqEwKJiEg/iUoceXl5GDduHKysrOpda9++PV5//XVcunSp2YIjIiLtIypxtGnTRq2L6nFlZWWoqalpclBERKS9RCWOV155BUlJSbh161a9a3fv3kVSUhL69+/fbMEREZH2EbWOY86cORg7dixGjhwJHx8fODg4QCaTIT8/H19//TVkMhnmzZvXUrESEZEWEJU4nJyccPjwYaxfvx7ffPMNMjIyAABt27bFwIEDMW/ePHTt2rVFAiUiIu0g+iCnLl26YMOGDRAEAffv30dlZSUsLCxgbm7eEvEREZGWeeoYR935G4sXL1Yrz8rKQkREBHx9fdGvXz9MnToV+fn5LRYoERFph0YTh1KpxJtvvomlS5fiyJEjqKqqAgDcuHEDU6ZMwbVr1/Dqq69i0qRJuH79OsaPH49CbidN1ChZYSHanM/i1uuksxpNHLt27cL58+exYMEC/Pjjj2jTprZnKzY2FhUVFRgxYgS2bduGhQsX4rPPPoOxsTG2bt3aKoET6SIe+kT6oNHEkZ6ejoCAAEyZMgVt27YFUNsKOXHiBGQyGaZMmaK618rKCiEhITh16lSLBkykq3joE+mLRhPHzZs30bdvX7WyCxcuQKFQwNbWtt4W6p07d27wkCci4qFPpD8aTRw1NTX1joL95z//CQAYMGBAvftLS0thZmbWjOER6Q8e+kT6otHE0blzZ+Tl5amVZWZmQiaTwdfXt979Z86cQefOnZs1QCJ9UXfok2BmhhrLdhDMzHjoE+mkRhPHiBEjkJKSgszMTCgUCuzcuRNXrlyBtbU1/Pz81O5NTU3F2bNn8dprr7VowES6rCJkDIqycvHnoRQUZeWiImSM1CERidboAsBJkybh9OnTmD17NmQyGQRBgImJCVauXAm5XA4AOH78OJKSkvDDDz/A0dERkyZNao24iXSWYGODKrYySIc1mjjkcjl27tyJtLQ0XLhwAebm5hg5cqTaWRw5OTnIzs7GyJEjsWjRItXsKyIi0k/PfOZ4HYVCAVNTUxgZiT6FtlXxzHHDwbrSHOtKc4ZWV42dOS56r6rHcRYVEZFh0e5mAhERaR0mDiIiEoWJg1oFN/Yj0h9MHNTiuLEfkX7RmsQxe/ZsDB06VK3szJkzCA0Nhbu7O/z8/LBjxw6JoqNnxY39iPSPViSOlJQUHD9+XK0sOzsbM2fOhJOTE2JjYxEcHIw1a9YgPj5eoijpWejyxn7sXiNqWJOn4zbV3bt3sXLlSrzwwgtq5Rs3bkTPnj2xdu1aAICPjw+qqqqwdetWREREqFauk3bT1Y39TA8fhGX0bAhtTCCrqkTp+jhuD0L0H5K3OGJiYjBw4EB4e3uryioqKnDu3DkMGzZM7d6AgACUlJQgOzu7tcOkZ6SLG/uxe42ocZImjoMHDyI3NxfvvW4eZKAAABBsSURBVPeeWvmtW7dQWVkJR0dHtfIuXWp/S71+/XqrxUhNp2sb++ly9xpRa5Csq6qgoACrVq3CqlWr0LFjR7VrpaW1y/otLNSXu5ubmwMAysrKWidIaja6tLGfrnavEbUWSRKHIAh49913MXjwYAQEBDR4HQBkMlmDr3+WfbGetOeKLrG1tZQ6BJ3RpLqytQTi44EpUwATE6CyErL4eNj0cHz6a3UQv680x7qqJUniSE5OxuXLl/HFF1+gqqoKwH+TRVVVFSwta/9xHm9Z1H1dd10MbnJoOJqlrvyDIMvKhfGtm6i271I7JqOH9c/vK80ZWl216CaHzyIjIwP379/HoEGD6l1zdXXF0qVLYWxsjPz8fLVrdV8/PvZB1BJ0qXuNqDVJkjiWLVuG8vJytbK4uDjk5eVh06ZN6NSpE9LT03Hs2DG8+eabqi6rjIwMWFpaws3NTYqwiYgIEiUOJyenemVWVlaQy+Xo1asXAGDWrFmIjIxEdHQ0Ro8ejfPnzyM+Ph7z58/nVu5ERBKSfB3Hk3h7eyM2NhZXr15FVFQUvvjiCyxcuBDTpk2TOjQiIoPW5BMAdQUHxw0H60pzrCvNGVpdNTY4rrUtDiIi0k5MHEREJAoTBxERicLEQTqH250TSYuJg3QKTxMkkh4TB+kMbndOpB2YOEhncLtzIu3AxEE6g9udE2kHJg7SGbp4miCRPpL8zHEiMSpCxkDp46u+3TkRtSomDtI53O6cSFrsqiIiIlGYOIiISBQmDiIiEoWJg4iIRGHiMDCN7fMk1R5Q3HuKSLcwcRiQxvZ5kmoPKO49RaR7eAKgjmjq6WOywkJYe7lCplCoygQzMxRl5QLAE6+15DqJxmJqyvsa2kltTcG60pyh1RVPAKRG93mSag8o7j1FpJu4ANBAPG2fJyn2gOLeU0S6iS0OA9HYPk9S7QHFvaeIdBPHOHREc/WvygoLn7jPU2PXWlJzv6+h9UU3BetKc4ZWV42NcbCrysA0ts+TVHtAce8pIt3CripqEVybQaS/mDio2XFtBpF+Y+KgZsVzwYn0HxMHNSuuzSDSf0wc1Ky4NoNI/zFxkEpzDGhzbQaR/uN0XAJQO6BtGT0bQhsTyKoqUbo+DhUhY57pWTwXnEi/MXGQ2oC2DLUbDlpGR0Hp4/vMP/S5NoNIf7GrSgu19hoIDmgTkRhMHFpGijUQHNAmIjGYOLSIVGsgOKBNRGJwjEOL1HUZ1Y0zAI90GfVwbNH35oA2EWmKiUOLSN1lxAFtItIEu6q0CLuMiEgXsMWhZdhlRETaTtIWR01NDfbu3Yvg4GB4enrC398fq1atQllZmeqeM2fOIDQ0FO7u7vDz88OOHTskjLh1CDY2qPL0apGkwe3OiaipJE0c27dvx/Lly+Hr64u4uDhERkbi888/x5w5cwAA2dnZmDlzJpycnBAbG4vg4GCsWbMG8fHxUoats7jdORE1B8m6qgRBwPbt2zFu3DjMnz8fADBgwAB06NAB0dHRyMvLw8aNG9GzZ0+sXbsWAODj44Oqqips3boVERERkMvlUoWvc1pidTgRGSbJWhzl5eUYOXIkgoKC1MqdnJwAAFeuXMG5c+cwbNgwtesBAQEoKSlBdnZ2q8X6LLStS4irw4mouUiWOCwsLBATEwMvLy+18szMTABAz549UVlZCUdH9fULXbrUTk29fv166wT6DLSxS0jqqb5EpD+0ajruxYsXsW3bNvj7+6O0tBRAbYJ5lLm5OQCoDaBrE209AY9TfYmouWjNdNysrCzMnDkTnTp1wooVK1QtCplM1uD9Rkbicp61tcXTb2oON34G5HJA8d/V3zITE9iUFTZ59betrWXTYpsRCYQEQXbjBuDggHa2tk17nhZrcl0ZENaV5lhXtbQicaSlpWHRokVwcHDA9u3b0aFDBxT+5zf0x1sWdV9bWor7BywqKkNNjdA8ATdCZmEDa6USj6Y7obISRRY2EP4ofebn2tpa4o8mvP6/2gIO3Wv/2izP0z7NV1f6j3WlOUOrKyMj2RN/4Za8qyohIQHz5s2Dh4cHkpOT8dxzzwEAOnfuDGNjY+Tn56vdX/f142Mf2oJdQkSk7yRNHAcPHsTq1asRGBiI7du3q7UiTE1N0bdvXxw7dgyC8N+WQkZGBiwtLeHm5iZFyBqpCBmDoqxc/HkoBUVZuc98kh4RkTaSrKuqqKgIK1euhJ2dHcLDw/Gvf/1L7Xrnzp0xa9YsREZGIjo6GqNHj8b58+cRHx+P+fPnw8zMrMVjlBUWPvPWH9wwkIj0lWSJ4/Tp01AoFCgoKEB4eHi962vWrMGoUaMQGxuLjRs3IioqCs8//zwWLlyIyZMnt3h8zXkGNxGRPpEJj/YD6TExg+OywkJYe7lC9sjMKMHMDEVZuZKNVRjawFxTsK40x7rSnKHVlVYPjmsjrrImInoyJo4GcJU1EdGTMXE0gFNqiYieTCsWAGojHqhERNQwJo5GcEotEVF97KoiIiJRmDiIiEgUJg4iIhKFiYOIiEQxmMFxI6OGz/XQJfrwGVoL60pzrCvNGVJdNfZZDWbLESIiah7sqiIiIlGYOIiISBQmDiIiEoWJg4iIRGHiICIiUZg4iIhIFCYOIiIShYmDiIhEYeIgIiJRmDi0WE1NDfbu3Yvg4GB4enrC398fq1atQllZmdShab3Zs2dj6NChUoehtX788UeEhYXB3d0dgwYNwvLly1FeXi51WFpr7969CAwMhIeHB4KDg5Gamip1SJJi4tBi27dvx/Lly+Hr64u4uDhERkbi888/x5w5c6QOTaulpKTg+PHjUoehtS5cuIDIyEjY2tpiy5YtiIqKQmpqKmJiYqQOTSvt378fS5cuha+vLzZv3owBAwZgwYIFSE9Plzo0yXCvKi0lCAJeeeUVjBgxAkuWLFGVp6WlITo6Gp9//jl69OghYYTa6e7duwgODoaZmRnkcjkTSAMmTJgAAEhMTIRMVruRXXJyMhISEvDFF1/AzMxMyvC0zvjx4yGXy7F7925VWXh4OIyMjJCYmChhZNJhi0NLlZeXY+TIkQgKClIrd3JyAgDk5+dLEZbWi4mJwcCBA+Ht7S11KFrp3r17OHfuHMLCwlRJA6j9QZiZmcmk0YCKigqYm5urlVlZWaG4uFiiiKTHxKGlLCwsEBMTAy8vL7XyzMxMAEC3bt2kCEurHTx4ELm5uXjvvfekDkVr/fLLLxAEAe3bt8fcuXPh4eEBLy8vLFmyBA8fPpQ6PK00ceJEnD59Gunp6SgrK8OXX36JU6dOYdSoUVKHJhmDOY9DH1y8eBHbtm2Dv78/unbtKnU4WqWgoACrVq3CqlWr0LFjR6nD0Vr37t0DACxatAhDhw7Fli1bcPnyZWzYsAEVFRVYvXq1xBFqnxEjRuC7777D3LlzVWWjR4/G1KlTJYxKWkwcOiIrKwszZ85Ep06dsGLFCqnD0SqCIODdd9/F4MGDERAQIHU4Wq2yshIA0KdPH9XYmbe3NwRBwIcffoioqCjY29tLGaLWmTVrFs6fP4/FixejZ8+euHjxIjZv3qzqFTBE7KrSAWlpaYiMjMSLL76InTt3okOHDlKHpFWSk5Nx+fJlvPvuu6iqqkJVVRXq5nw8+neCqq/ex8dHrXzQoEEQBAGXL1+WIiytlZ2djTNnziAmJgaTJk1C//79MW3aNCxatAiJiYkGW19scWi5hIQEfPjhh+jfvz/i4uJgaWkpdUhaJyMjA/fv38egQYPqXXN1dcWqVasQEhIiQWTax8HBAQCgVCrVyutaIo8OmBPw22+/AahtoT2qb9++AICrV6/CxcWl1eOSGhOHFjt48CBWr16N4cOH48MPP4RcLpc6JK20bNmyeovX4uLikJeXh02bNqFTp04SRaZ9unbtCjs7O6SlpeGNN95QlZ88eRJt2rSBp6enhNFpH0dHRwC1Cybrki5QuxYGAOzs7KQIS3JMHFqqqKgIK1euhJ2dHcLDw/Gvf/1L7Xrnzp05CPwfdVOUH2VlZQW5XI5evXpJEJH2kslkePvttzFv3jy8/fbbCAkJQU5ODrZs2YKIiAh+Tz3G1dUV/v7++OCDD1BeXo4ePXogJycHcXFx8PHxgbu7u9QhSoKJQ0udPn0aCoUCBQUFCA8Pr3d9zZo1Bj0dkJ7d8OHDIZfLERcXhxkzZsDa2hpRUVGYMWOG1KFppfXr12PTpk3YuXMnioqKYGdnh8mTJ2P69OlShyYZrhwnIiJROKuKiIhEYeIgIiJRmDiIiEgUJg4iIhKFiYOIiERh4iAiIlGYOIg0EBsbCxcXF3z//fcNXr99+zZcXFywaNGiVo6MqPUxcRARkShMHEREJAoTBxERicK9qohayOXLl/Hxxx/jhx9+gFKpRPfu3TF9+nT4+/ur7omIiEBBQQFOnDih9trHyyMiIiCXy+Hm5obdu3ejbdu22LlzJxwdHbF27VqcOHECd+/ehbW1Nfz8/DB37ly0b9++VT8vGQ4mDiIRSktLVcevPqqkpETt60uXLmHixImwsLBAZGQkzM3NkZKSgqioKLz//vsNblz5NNnZ2bh58yYWLFiA27dvo1u3bliyZAmOHDmCiRMnwt7eHleuXEFycjJu3ryJHTt2PPPnJGoMEweRCFFRURrdt2LFCshkMhw6dAgvvPACACAsLAxhYWFYs2YNAgMDRW9h/uDBA2zduhWvvPKKquyLL75AaGgo5s2bpyr7y1/+gtOnT6O8vFx14h9Rc2LiIBLhnXfeQffu3euVFxYWYsGCBaq/X7x4EWFhYaqkAQCmpqaYMmUK5s2bh2+//RZBQUGi3rtt27bo16+fWtkLL7yAtLQ0uLm5wd/fH+3atcPcuXMxd+7cZ/h0RJph4iASwdXVVe03/jq3b99W/b2goADAf0+Pe1TXrl0B/PdIUjGsrKxgZKQ+n2Xp0qWYO3cuFi9ejPfeew8eHh4YOnQoQkNDecwwtRjOqiJqZo0dcVNTUwMAMDExafQZ1dXV9cqMjY3rlXl7e+PkyZP4+9//jsDAQFy7dg2rVq1CcHBwg2MxRM2BiYOomdWdQ33t2rV6165fvw4Aqi4sIyMjKJXKevcVFhY+9X2USiUuXryI0tJSjBgxAh999BHOnj2LhQsX4s6dOzh69GhTPgbREzFxEDUzW1tbuLm5ITU1Ff/+979V5UqlEgkJCZDL5Rg4cCAAwMbGBkVFRbh7967qvpycHNy8efOp71NcXIxx48bhk08+UZUZGRmpzll/vFuLqLlwjIOoBcTExODNN9/EmDFjEBYWBnNzc6SmpiI3NxcxMTFo164dACAoKAhHjhzBtGnTEBYWhqKiIiQmJsLBwQGVlZWNvsdzzz2H4OBg7NmzBwqFAp6eniguLkZSUhJsbGwQGBjYGh+VDBATB1EL8PT0xN69e7Fx40bs2LEDNTU16N69O+Li4tQWAA4ZMgTvv/8+du/ejZUrV8LR0RFLly7Fjz/+iFOnTj31fZYvXw57e3scPXoUR48ehZmZGby9vREdHS16ui+RpmRCYyN5REREj2EnKBERicLEQUREojBxEBGRKEwcREQkChMHERGJwsRBRESiMHEQEZEoTBxERCQKEwcREYnCxEFERKL8P65fB4pprhwSAAAAAElFTkSuQmCC\n",
      "text/plain": [
       "<Figure size 432x288 with 1 Axes>"
      ]
     },
     "metadata": {},
     "output_type": "display_data"
    }
   ],
   "source": [
    "#plotting the distribution \n",
    "df.plot.scatter(x='Hours',y='Scores',color='red')\n",
    "plt.title('Hours vs Scores')\n",
    "plt.xlabel('Hours')\n",
    "plt.ylabel('Scores')\n",
    "plt.show()"
   ]
  },
  {
   "cell_type": "code",
   "execution_count": 17,
   "metadata": {},
   "outputs": [
    {
     "data": {
      "text/plain": [
       "<matplotlib.axes._subplots.AxesSubplot at 0x1fc5e26a760>"
      ]
     },
     "execution_count": 17,
     "metadata": {},
     "output_type": "execute_result"
    },
    {
     "data": {
      "image/png": "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\n",
      "text/plain": [
       "<Figure size 432x288 with 2 Axes>"
      ]
     },
     "metadata": {},
     "output_type": "display_data"
    }
   ],
   "source": [
    "sns.heatmap(df.corr(),annot=True)"
   ]
  },
  {
   "cell_type": "code",
   "execution_count": 18,
   "metadata": {},
   "outputs": [
    {
     "data": {
      "text/html": [
       "<div>\n",
       "<style scoped>\n",
       "    .dataframe tbody tr th:only-of-type {\n",
       "        vertical-align: middle;\n",
       "    }\n",
       "\n",
       "    .dataframe tbody tr th {\n",
       "        vertical-align: top;\n",
       "    }\n",
       "\n",
       "    .dataframe thead th {\n",
       "        text-align: right;\n",
       "    }\n",
       "</style>\n",
       "<table border=\"1\" class=\"dataframe\">\n",
       "  <thead>\n",
       "    <tr style=\"text-align: right;\">\n",
       "      <th></th>\n",
       "      <th>Hours</th>\n",
       "      <th>Scores</th>\n",
       "    </tr>\n",
       "  </thead>\n",
       "  <tbody>\n",
       "    <tr>\n",
       "      <th>Hours</th>\n",
       "      <td>1.000000</td>\n",
       "      <td>0.976191</td>\n",
       "    </tr>\n",
       "    <tr>\n",
       "      <th>Scores</th>\n",
       "      <td>0.976191</td>\n",
       "      <td>1.000000</td>\n",
       "    </tr>\n",
       "  </tbody>\n",
       "</table>\n",
       "</div>"
      ],
      "text/plain": [
       "           Hours    Scores\n",
       "Hours   1.000000  0.976191\n",
       "Scores  0.976191  1.000000"
      ]
     },
     "execution_count": 18,
     "metadata": {},
     "output_type": "execute_result"
    }
   ],
   "source": [
    "df.corr()"
   ]
  },
  {
   "cell_type": "code",
   "execution_count": 37,
   "metadata": {},
   "outputs": [
    {
     "data": {
      "text/plain": [
       "Text(0.5, 1.0, 'plotting the regreesion line')"
      ]
     },
     "execution_count": 37,
     "metadata": {},
     "output_type": "execute_result"
    },
    {
     "data": {
      "image/png": "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\n",
      "text/plain": [
       "<Figure size 360x360 with 1 Axes>"
      ]
     },
     "metadata": {},
     "output_type": "display_data"
    }
   ],
   "source": [
    "sns.lmplot(x=\"Hours\",y=\"Scores\",data=df)\n",
    "plt.title('plotting the regreesion line')"
   ]
  },
  {
   "cell_type": "markdown",
   "metadata": {},
   "source": [
    "# PREPARING THE DATA"
   ]
  },
  {
   "cell_type": "code",
   "execution_count": 35,
   "metadata": {},
   "outputs": [],
   "source": [
    "x = df.iloc[:,:-1].values\n",
    "y = df.iloc[:,1].values"
   ]
  },
  {
   "cell_type": "code",
   "execution_count": 36,
   "metadata": {},
   "outputs": [],
   "source": [
    "from sklearn.model_selection import train_test_split\n",
    "from sklearn.linear_model import LinearRegression\n",
    "from sklearn.metrics import mean_squared_error, r2_score"
   ]
  },
  {
   "cell_type": "code",
   "execution_count": 34,
   "metadata": {},
   "outputs": [
    {
     "name": "stdout",
     "output_type": "stream",
     "text": [
      "Training Completed!\n"
     ]
    }
   ],
   "source": [
    "#TRAINING THE MODEL\n",
    "X_train,X_test,Y_train,Y_test = train_test_split(x,y,test_size=0.3,random_state = 0)\n",
    "linreg = LinearRegression()\n",
    "linreg.fit(x,y)\n",
    "print(\"Training Completed!\")"
   ]
  },
  {
   "cell_type": "code",
   "execution_count": 24,
   "metadata": {},
   "outputs": [
    {
     "data": {
      "image/png": "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\n",
      "text/plain": [
       "<Figure size 432x288 with 1 Axes>"
      ]
     },
     "metadata": {},
     "output_type": "display_data"
    }
   ],
   "source": [
    "#VISUALIZING THE REGRESSION LINE\n",
    "line = linreg.coef_*x + linreg.intercept_\n",
    "plt.scatter(x,y,color ='blue')\n",
    "plt.plot(x,line,color ='red')\n",
    "plt.show()"
   ]
  },
  {
   "cell_type": "markdown",
   "metadata": {},
   "source": [
    "# PREDICTING AND EVALUATING\n"
   ]
  },
  {
   "cell_type": "code",
   "execution_count": 25,
   "metadata": {},
   "outputs": [
    {
     "name": "stdout",
     "output_type": "stream",
     "text": [
      "\n",
      "Training score :\n",
      "Mean squared error: 31.68\n",
      "R2 score: 0.948495\n",
      "\n",
      "Testing score :\n",
      "Mean squared error: 22.95\n",
      "R2 score: 0.956853\n"
     ]
    }
   ],
   "source": [
    "#PREDICTING TRAINING SAMPLES\n",
    "Y_pred = linreg.predict(X_train)\n",
    "print(\"\\nTraining score :\")\n",
    "print(\"Mean squared error: %.2f\"% mean_squared_error(Y_train, Y_pred))\n",
    "print('R2 score: %2f' % r2_score(Y_train, Y_pred))\n",
    "\n",
    "#PREDICTING TESTING SAMPLES\n",
    "Y_pred = linreg.predict(X_test)\n",
    "print(\"\\nTesting score :\")\n",
    "print(\"Mean squared error: %.2f\"% mean_squared_error(Y_test, Y_pred))\n",
    "print('R2 score: %2f' % r2_score(Y_test, Y_pred))"
   ]
  },
  {
   "cell_type": "code",
   "execution_count": 33,
   "metadata": {},
   "outputs": [
    {
     "name": "stdout",
     "output_type": "stream",
     "text": [
      "[[1.5]\n",
      " [3.2]\n",
      " [7.4]\n",
      " [2.5]\n",
      " [5.9]\n",
      " [3.8]\n",
      " [1.9]\n",
      " [7.8]]\n"
     ]
    }
   ],
   "source": [
    "print(X_test) # Testing data - In Hours\n",
    "Y_pred = linreg.predict(X_test) # Predicting the scores"
   ]
  },
  {
   "cell_type": "code",
   "execution_count": 26,
   "metadata": {},
   "outputs": [
    {
     "data": {
      "text/html": [
       "<div>\n",
       "<style scoped>\n",
       "    .dataframe tbody tr th:only-of-type {\n",
       "        vertical-align: middle;\n",
       "    }\n",
       "\n",
       "    .dataframe tbody tr th {\n",
       "        vertical-align: top;\n",
       "    }\n",
       "\n",
       "    .dataframe thead th {\n",
       "        text-align: right;\n",
       "    }\n",
       "</style>\n",
       "<table border=\"1\" class=\"dataframe\">\n",
       "  <thead>\n",
       "    <tr style=\"text-align: right;\">\n",
       "      <th></th>\n",
       "      <th>Actual</th>\n",
       "      <th>predicted</th>\n",
       "    </tr>\n",
       "  </thead>\n",
       "  <tbody>\n",
       "    <tr>\n",
       "      <th>0</th>\n",
       "      <td>20</td>\n",
       "      <td>17.147378</td>\n",
       "    </tr>\n",
       "    <tr>\n",
       "      <th>1</th>\n",
       "      <td>27</td>\n",
       "      <td>33.766244</td>\n",
       "    </tr>\n",
       "    <tr>\n",
       "      <th>2</th>\n",
       "      <td>69</td>\n",
       "      <td>74.824618</td>\n",
       "    </tr>\n",
       "    <tr>\n",
       "      <th>3</th>\n",
       "      <td>30</td>\n",
       "      <td>26.923182</td>\n",
       "    </tr>\n",
       "    <tr>\n",
       "      <th>4</th>\n",
       "      <td>62</td>\n",
       "      <td>60.160913</td>\n",
       "    </tr>\n",
       "    <tr>\n",
       "      <th>5</th>\n",
       "      <td>35</td>\n",
       "      <td>39.631726</td>\n",
       "    </tr>\n",
       "    <tr>\n",
       "      <th>6</th>\n",
       "      <td>24</td>\n",
       "      <td>21.057700</td>\n",
       "    </tr>\n",
       "    <tr>\n",
       "      <th>7</th>\n",
       "      <td>86</td>\n",
       "      <td>78.734940</td>\n",
       "    </tr>\n",
       "  </tbody>\n",
       "</table>\n",
       "</div>"
      ],
      "text/plain": [
       "   Actual  predicted\n",
       "0      20  17.147378\n",
       "1      27  33.766244\n",
       "2      69  74.824618\n",
       "3      30  26.923182\n",
       "4      62  60.160913\n",
       "5      35  39.631726\n",
       "6      24  21.057700\n",
       "7      86  78.734940"
      ]
     },
     "execution_count": 26,
     "metadata": {},
     "output_type": "execute_result"
    }
   ],
   "source": [
    "#COMPARING ACTUAL VS PREDICTED\n",
    "df1 = pd.DataFrame({'Actual': Y_test,'predicted': Y_pred})\n",
    "df1"
   ]
  },
  {
   "cell_type": "code",
   "execution_count": 27,
   "metadata": {},
   "outputs": [
    {
     "name": "stdout",
     "output_type": "stream",
     "text": [
      "No of Hours = [[9.25]]\n",
      "predicted score = 92.90985477015731\n"
     ]
    }
   ],
   "source": [
    "#TESTING ON OUR OWN DATA\n",
    "Hours = np.array([[9.25]])\n",
    "predict=linreg.predict(Hours)\n",
    "print(\"No of Hours = {}\".format(Hours))\n",
    "print(\"predicted score = {}\".format(predict[0]))"
   ]
  },
  {
   "cell_type": "code",
   "execution_count": 31,
   "metadata": {},
   "outputs": [
    {
     "name": "stdout",
     "output_type": "stream",
     "text": [
      "Mean Absolute Error: 4.399809444644845\n"
     ]
    }
   ],
   "source": [
    "from sklearn import metrics  \n",
    "print('Mean Absolute Error:',metrics.mean_absolute_error(Y_test,Y_pred)) "
   ]
  }
 ],
 "metadata": {
  "kernelspec": {
   "display_name": "Python 3",
   "language": "python",
   "name": "python3"
  },
  "language_info": {
   "codemirror_mode": {
    "name": "ipython",
    "version": 3
   },
   "file_extension": ".py",
   "mimetype": "text/x-python",
   "name": "python",
   "nbconvert_exporter": "python",
   "pygments_lexer": "ipython3",
   "version": "3.8.3"
  }
 },
 "nbformat": 4,
 "nbformat_minor": 4
}
